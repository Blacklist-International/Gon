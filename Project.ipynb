{
  "nbformat": 4,
  "nbformat_minor": 0,
  "metadata": {
    "colab": {
      "provenance": []
    },
    "kernelspec": {
      "name": "python3",
      "display_name": "Python 3"
    },
    "language_info": {
      "name": "python"
    },
    "accelerator": "GPU",
    "gpuClass": "standard"
  },
  "cells": [
    {
      "cell_type": "code",
      "execution_count": 1,
      "metadata": {
        "id": "H-eF-l65jakW"
      },
      "outputs": [],
      "source": [
        "import os\n",
        "import zipfile\n",
        "import tensorflow as tf\n",
        "from tensorflow.keras.utils import image_dataset_from_directory\n",
        "\n",
        "os.environ['TF_CPP_MIN_LOG_LEVEL'] = '3' "
      ]
    },
    {
      "cell_type": "code",
      "source": [
        "!wget \"https://github.com/dicodingacademy/assets/releases/download/release/rockpaperscissors.zip\"\n",
        "!unzip \"/content/rockpaperscissors.zip\""
      ],
      "metadata": {
        "id": "VaukX7GlsU0Z"
      },
      "execution_count": null,
      "outputs": []
    },
    {
      "cell_type": "code",
      "source": [
        "os.listdir(\"/content/rockpaperscissors\")"
      ],
      "metadata": {
        "colab": {
          "base_uri": "https://localhost:8080/"
        },
        "id": "BK393OxJtP3F",
        "outputId": "13107f80-a32e-4bf3-bd3b-691a0b15e3c6"
      },
      "execution_count": 3,
      "outputs": [
        {
          "output_type": "execute_result",
          "data": {
            "text/plain": [
              "['paper', 'README_rpc-cv-images.txt', 'rock', 'rps-cv-images', 'scissors']"
            ]
          },
          "metadata": {},
          "execution_count": 3
        }
      ]
    },
    {
      "cell_type": "code",
      "source": [
        "os.listdir(\"/content/rockpaperscissors/rps-cv-images\")"
      ],
      "metadata": {
        "colab": {
          "base_uri": "https://localhost:8080/"
        },
        "id": "S0HV6mMstRjw",
        "outputId": "7bb0d9a7-7f0b-4eb9-c263-8c08590fc95b"
      },
      "execution_count": 4,
      "outputs": [
        {
          "output_type": "execute_result",
          "data": {
            "text/plain": [
              "['paper', 'README_rpc-cv-images.txt', 'rock', 'scissors']"
            ]
          },
          "metadata": {},
          "execution_count": 4
        }
      ]
    },
    {
      "cell_type": "code",
      "source": [
        "base_dir = \"/content/rockpaperscissors/rps-cv-images\"\n",
        "\n",
        "train_ds = image_dataset_from_directory(\n",
        "    directory=base_dir,\n",
        "    image_size=(150, 150),\n",
        "    validation_split=0.4,\n",
        "    subset='training',\n",
        "    batch_size=32,\n",
        "    label_mode='categorical',\n",
        "    seed=1234\n",
        ")"
      ],
      "metadata": {
        "colab": {
          "base_uri": "https://localhost:8080/"
        },
        "id": "X-r5ryBDtT-6",
        "outputId": "24792b99-287f-4970-d5b8-35b59e56e9e8"
      },
      "execution_count": 5,
      "outputs": [
        {
          "output_type": "stream",
          "name": "stdout",
          "text": [
            "Found 2188 files belonging to 3 classes.\n",
            "Using 1313 files for training.\n"
          ]
        }
      ]
    },
    {
      "cell_type": "code",
      "source": [
        "validation_ds = image_dataset_from_directory(\n",
        "    directory=base_dir,\n",
        "    image_size=(150, 150),\n",
        "    validation_split=0.4,\n",
        "    subset='validation',\n",
        "    batch_size=32,\n",
        "    label_mode='categorical',\n",
        "    seed=1234\n",
        ")"
      ],
      "metadata": {
        "colab": {
          "base_uri": "https://localhost:8080/"
        },
        "id": "cwmomsphtWTt",
        "outputId": "f9f349bf-8132-4417-f382-b2189ddf9a77"
      },
      "execution_count": 6,
      "outputs": [
        {
          "output_type": "stream",
          "name": "stdout",
          "text": [
            "Found 2188 files belonging to 3 classes.\n",
            "Using 875 files for validation.\n"
          ]
        }
      ]
    },
    {
      "cell_type": "code",
      "source": [
        "class_names = train_ds.class_names"
      ],
      "metadata": {
        "id": "wMCaxrlRtYCF"
      },
      "execution_count": 7,
      "outputs": []
    },
    {
      "cell_type": "code",
      "source": [
        "for image_batch, labels_batch in train_ds.take(1):\n",
        "  print(image_batch.shape)\n",
        "  print(labels_batch.shape)"
      ],
      "metadata": {
        "colab": {
          "base_uri": "https://localhost:8080/"
        },
        "id": "i_j2QucYtZn8",
        "outputId": "04fadc0e-a47c-4974-f597-b48ecd09adf6"
      },
      "execution_count": 8,
      "outputs": [
        {
          "output_type": "stream",
          "name": "stdout",
          "text": [
            "(32, 150, 150, 3)\n",
            "(32, 3)\n"
          ]
        }
      ]
    },
    {
      "cell_type": "code",
      "source": [
        "image_augmentation = tf.keras.models.Sequential([\n",
        "    tf.keras.layers.Rescaling(1./255),\n",
        "    tf.keras.layers.RandomRotation(0.2)\n",
        "], name='image_augmentation')"
      ],
      "metadata": {
        "id": "i_MPlX3-td3f"
      },
      "execution_count": 9,
      "outputs": []
    },
    {
      "cell_type": "code",
      "source": [
        "train_ds = train_ds.map(\n",
        "    lambda x, y: (image_augmentation(x), y)\n",
        ")"
      ],
      "metadata": {
        "id": "jgtsXvIptf_B"
      },
      "execution_count": 10,
      "outputs": []
    },
    {
      "cell_type": "code",
      "source": [
        "validation_ds = validation_ds.map(\n",
        "    lambda x, y: (image_augmentation(x), y)\n",
        ")"
      ],
      "metadata": {
        "id": "aPZDXv3XtiTV"
      },
      "execution_count": 11,
      "outputs": []
    },
    {
      "cell_type": "code",
      "source": [
        "input_layer = tf.keras.layers.Input(shape=(150, 150, 3))\n",
        "x = tf.keras.layers.Conv2D(16, 3, activation=tf.nn.relu)(input_layer)\n",
        "x = tf.keras.layers.MaxPool2D(2, 2)(x)\n",
        "x = tf.keras.layers.Conv2D(32, 3, activation=tf.nn.relu)(x)\n",
        "x = tf.keras.layers.MaxPool2D(2, 2)(x)\n",
        "x = tf.keras.layers.Flatten()(x)\n",
        "x = tf.keras.layers.Dense(units=128, activation=tf.nn.relu)(x)\n",
        "output_layer = tf.keras.layers.Dense(units=3, activation=tf.nn.softmax)(x)\n",
        "\n",
        "\n",
        "sec_cnn_model = tf.keras.Model(inputs=input_layer, outputs=output_layer)"
      ],
      "metadata": {
        "id": "rfRcaSWltkCy"
      },
      "execution_count": 12,
      "outputs": []
    },
    {
      "cell_type": "code",
      "source": [
        "sec_cnn_model.compile(\n",
        "    optimizer=tf.keras.optimizers.Adam(),\n",
        "    loss='categorical_crossentropy',\n",
        "    metrics=['accuracy']\n",
        ")"
      ],
      "metadata": {
        "id": "NR9pqwvbtm8y"
      },
      "execution_count": 13,
      "outputs": []
    },
    {
      "cell_type": "code",
      "source": [
        "filepath = \"/content/model_save\"\n",
        "\n",
        "class MainCallbacks(tf.keras.callbacks.Callback):\n",
        "  def on_epoch_end(self, epoch, logs={}):\n",
        "    if logs.get('accuracy') >= 0.88 and logs.get('val_accuracy') >= 0.90:\n",
        "      self.model.stop_training = True\n",
        "\n",
        "callbacks = MainCallbacks()"
      ],
      "metadata": {
        "id": "qvGRXUY7tqj7"
      },
      "execution_count": 14,
      "outputs": []
    },
    {
      "cell_type": "code",
      "source": [
        "history = sec_cnn_model.fit(\n",
        "    train_ds,\n",
        "    validation_data=validation_ds,\n",
        "    epochs = 15,\n",
        "    callbacks=[callbacks],\n",
        "    verbose=2\n",
        ")"
      ],
      "metadata": {
        "colab": {
          "base_uri": "https://localhost:8080/"
        },
        "id": "kj_wA2wBtoi1",
        "outputId": "ee2c7625-5888-45bb-f4a3-6178e5693b14"
      },
      "execution_count": 15,
      "outputs": [
        {
          "output_type": "stream",
          "name": "stdout",
          "text": [
            "Epoch 1/15\n",
            "42/42 - 16s - loss: 1.1435 - accuracy: 0.4798 - val_loss: 0.8962 - val_accuracy: 0.5520 - 16s/epoch - 388ms/step\n",
            "Epoch 2/15\n",
            "42/42 - 8s - loss: 0.7333 - accuracy: 0.7014 - val_loss: 0.6751 - val_accuracy: 0.7257 - 8s/epoch - 201ms/step\n",
            "Epoch 3/15\n",
            "42/42 - 8s - loss: 0.5645 - accuracy: 0.7867 - val_loss: 0.5263 - val_accuracy: 0.7806 - 8s/epoch - 184ms/step\n",
            "Epoch 4/15\n",
            "42/42 - 8s - loss: 0.4948 - accuracy: 0.8142 - val_loss: 0.6069 - val_accuracy: 0.7543 - 8s/epoch - 183ms/step\n",
            "Epoch 5/15\n",
            "42/42 - 8s - loss: 0.4275 - accuracy: 0.8408 - val_loss: 0.4245 - val_accuracy: 0.8457 - 8s/epoch - 182ms/step\n",
            "Epoch 6/15\n",
            "42/42 - 8s - loss: 0.3675 - accuracy: 0.8675 - val_loss: 0.3295 - val_accuracy: 0.8766 - 8s/epoch - 185ms/step\n",
            "Epoch 7/15\n",
            "42/42 - 8s - loss: 0.3382 - accuracy: 0.8759 - val_loss: 0.3393 - val_accuracy: 0.8800 - 8s/epoch - 185ms/step\n",
            "Epoch 8/15\n",
            "42/42 - 8s - loss: 0.3268 - accuracy: 0.8736 - val_loss: 0.2557 - val_accuracy: 0.9097 - 8s/epoch - 185ms/step\n",
            "Epoch 9/15\n",
            "42/42 - 8s - loss: 0.2434 - accuracy: 0.9208 - val_loss: 0.3007 - val_accuracy: 0.8891 - 8s/epoch - 183ms/step\n",
            "Epoch 10/15\n",
            "42/42 - 8s - loss: 0.2706 - accuracy: 0.9109 - val_loss: 0.2444 - val_accuracy: 0.9131 - 8s/epoch - 184ms/step\n"
          ]
        }
      ]
    },
    {
      "cell_type": "code",
      "source": [
        "train = sec_cnn_model.evaluate(train_ds, verbose=0)[-1]\n",
        "valid = sec_cnn_model.evaluate(validation_ds, verbose=0)[-1]\n",
        "\n",
        "print(f\"train : {train}, test : {valid}\")"
      ],
      "metadata": {
        "colab": {
          "base_uri": "https://localhost:8080/"
        },
        "id": "JBMFiue6t8g3",
        "outputId": "9911e1a3-1ab6-41ef-ac0c-e488df8f676b"
      },
      "execution_count": 16,
      "outputs": [
        {
          "output_type": "stream",
          "name": "stdout",
          "text": [
            "train : 0.9238385558128357, test : 0.8994285464286804\n"
          ]
        }
      ]
    },
    {
      "cell_type": "code",
      "source": [
        "!wget \"https://raw.githubusercontent.com/Primezane/Basic/main/History.py\"\n",
        "\n",
        "from History import History\n",
        "\n",
        "model_plot = History(history)"
      ],
      "metadata": {
        "id": "RxPYWqOMurhR"
      },
      "execution_count": null,
      "outputs": []
    },
    {
      "cell_type": "code",
      "source": [
        "model_plot.acc_plot()"
      ],
      "metadata": {
        "colab": {
          "base_uri": "https://localhost:8080/",
          "height": 291
        },
        "id": "chowPmyMvQj9",
        "outputId": "08678695-7e45-4015-d51a-6e81291b8266"
      },
      "execution_count": 18,
      "outputs": [
        {
          "output_type": "display_data",
          "data": {
            "text/plain": [
              "<Figure size 432x288 with 1 Axes>"
            ],
            "image/png": "[encoded data removed]"
          },
          "metadata": {}
        }
      ]
    },
    {
      "cell_type": "code",
      "source": [
        "model_plot.loss_plot()"
      ],
      "metadata": {
        "colab": {
          "base_uri": "https://localhost:8080/",
          "height": 291
        },
        "id": "MALj0ex7vQ_r",
        "outputId": "3b0e5f5e-877a-41b4-de05-f38ccb43b882"
      },
      "execution_count": 19,
      "outputs": [
        {
          "output_type": "display_data",
          "data": {
            "text/plain": [
              "<Figure size 432x288 with 1 Axes>"
            ],
            "image/png": "[encoded data removed]"
          },
          "metadata": {}
        }
      ]
    },
    {
      "cell_type": "code",
      "source": [
        "sec_cnn_model.save(\"rps_cnn.h5\")\n",
        "\n",
        "!mkdir \"rps_cnn_model\"\n",
        "\n",
        "tf.saved_model.save(sec_cnn_model, \"/content/rps_cnn_model\")"
      ],
      "metadata": {
        "colab": {
          "base_uri": "https://localhost:8080/"
        },
        "id": "qPkzKRGMvXvX",
        "outputId": "69ecdf0e-789c-44e0-a447-58402e6bf1b0"
      },
      "execution_count": 20,
      "outputs": [
        {
          "output_type": "stream",
          "name": "stderr",
          "text": [
            "WARNING:absl:Found untraced functions such as _jit_compiled_convolution_op, _jit_compiled_convolution_op while saving (showing 2 of 2). These functions will not be directly callable after loading.\n"
          ]
        }
      ]
    },
    {
      "cell_type": "code",
      "source": [
        "converter = tf.lite.TFLiteConverter.from_saved_model(\"/content/rps_cnn_model\")\n",
        "tflite_model = converter.convert()"
      ],
      "metadata": {
        "id": "6TOoM9TsvcD5"
      },
      "execution_count": 21,
      "outputs": []
    },
    {
      "cell_type": "code",
      "source": [
        "with open('model.tflite', 'wb') as f:\n",
        "  f.write(tflite_model)\n",
        "\n",
        "!mkdir tf_lite\n",
        "!mv model.tflite /content/tf_lite"
      ],
      "metadata": {
        "id": "HjyVbYMPvZ2L"
      },
      "execution_count": 22,
      "outputs": []
    },
    {
      "cell_type": "code",
      "source": [
        "!ls -l \"/content/tf_lite\""
      ],
      "metadata": {
        "colab": {
          "base_uri": "https://localhost:8080/"
        },
        "id": "zj7hpea0xLso",
        "outputId": "760ead51-aaba-49f0-a88d-1d3814cb9b28"
      },
      "execution_count": 23,
      "outputs": [
        {
          "output_type": "stream",
          "name": "stdout",
          "text": [
            "total 20764\n",
            "-rw-r--r-- 1 root root 21259240 Jan 26 06:26 model.tflite\n"
          ]
        }
      ]
    },
    {
      "cell_type": "code",
      "source": [
        "!ls -l \"/content/rps_cnn_model\""
      ],
      "metadata": {
        "colab": {
          "base_uri": "https://localhost:8080/"
        },
        "id": "9bNPeQqxxfx3",
        "outputId": "74208ab4-695f-4fe6-8fab-856b3d0898c3"
      },
      "execution_count": 26,
      "outputs": [
        {
          "output_type": "stream",
          "name": "stdout",
          "text": [
            "total 140\n",
            "drwxr-xr-x 2 root root   4096 Jan 26 06:26 assets\n",
            "-rw-r--r-- 1 root root 131707 Jan 26 06:26 saved_model.pb\n",
            "drwxr-xr-x 2 root root   4096 Jan 26 06:26 variables\n"
          ]
        }
      ]
    }
  ]
}